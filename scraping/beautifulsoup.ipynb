{
 "cells": [
  {
   "cell_type": "code",
   "execution_count": null,
   "id": "827ec2c5",
   "metadata": {},
   "outputs": [
    {
     "name": "stdout",
     "output_type": "stream",
     "text": [
      "Title: 입 개운하게 해주는 '이것'… 양치 직후 쓰면 오히려 독\n",
      "Link: /medical/2025/05/23/RDHVGNP5JNDVRDR6VSNSKY3PMQ/\n",
      "\n",
      "Title: 복통에 장염 증상?궤양성대장염 의심해 봐야\n",
      "Link: /medical/2024/12/27/OR2UOZQGRFDDXN2YN7AXGEAHCI/\n",
      "\n",
      "Title: 감자 '이렇게' 먹었더니두 달 동안 5㎏ 감량했다\n",
      "Link: /culture-life/health/2025/05/11/JOLLTJVJZRDGBPQT3QHG5G2IJU/\n",
      "\n",
      "Title: 60대 절반이 전립선 비대증…50세부터 '이 검사' 꼭 해야\n",
      "Link: /medical/2025/05/22/DYX7UCY275CS3I4SQQP3X5LBUQ/\n",
      "\n",
      "Title: 복합 비타민,심혈관 질환 예방 효과 없다\n",
      "Link: /medical/2025/04/16/RJYLN4VE3FGKDOB75ACMDF7RAA/\n",
      "\n",
      "Title: 노인 되면 왜 잠자는 시간 짧아질까… 수면 장애 오해와 진실\n",
      "Link: /medical/2023/12/27/2LBS6EKH7ZHW7NQNBYLC445BXM/\n",
      "\n",
      "Title: 35세 이상 고령 산모 증가…'임신중독증' 예방법 A to Z\n",
      "Link: /medical/2025/04/29/2JKOKCOSWFHBNNAUVZCFMWQXPI/\n",
      "\n",
      "Title: 10~30대 여성들은 왜자궁경부암에 많이 걸릴까\n",
      "Link: /medical/2025/04/22/MCFSYZZCJBCE7EZBN75LRZQD6Q/\n",
      "\n",
      "Title: 고령일수록 위험하다…노년기 백혈병 3대 증상\n",
      "Link: /medical/2025/05/20/FLEHHCQDSZAYDIM63G6MJIWULU/\n",
      "\n",
      "Title: '폭싹' 관식도 걸린'다발골수종' 진단법\n",
      "Link: /medical/2025/05/13/MNXRSULSKJHS7PF35B6NHWWRBM/\n",
      "\n",
      "Title: 어릴 때부터 스마트폰 많이 보면주의력과 충동 조절 능력 떨어져\n",
      "Link: /medical/2025/05/01/ZOF3CFO7YBGDJJDA6JZDHBEHX4/\n",
      "\n",
      "Title: 흉터 최소화하고 싶다면상처 아물기 전에 레이저 받아야\n",
      "Link: /medical/2025/04/24/4U5DGCYVDVFQPDAUPVPSMPE4BA/\n",
      "\n",
      "Title: \"의자가 허리 건강을 결정한다\"좋은 의자 고르는 방법은?\n",
      "Link: /medical/2025/04/09/5IH7IWAJBNFUJB75GFSUC4JKPM/\n",
      "\n",
      "Title: 기침을 하루에 한번만 해도 만성기침일 수 있다\n",
      "Link: /medical/2025/04/04/6FUENBDWBNH6VAOGWKXTPKZVSE/\n",
      "\n",
      "Title: 경동맥 협착증 진단 받았다면약물 치료만 해도 괜찮을까\n",
      "Link: /medical/2025/05/22/OFFFE46FKZF7VFWSVLKGPVWF6I/\n",
      "\n",
      "Title: 무릎 관절염엔 근력 운동보다요가가 효과적\n",
      "Link: /medical/2025/05/15/MRTJ6TERNJEBBPLMNWRP6F2RVE/\n",
      "\n",
      "Title: 다양한 과일 즐겨 먹으면이명 줄어들어요\n",
      "Link: /medical/2025/05/01/OBCZZVJ5E5H2TPVU52S5JCCJNE/\n",
      "\n",
      "Title: 당뇨병은 혈압 120으로 낮춰야 심혈관질환 예방\n",
      "Link: /medical/2025/04/24/CF6SWPX6OVFN5LZMEG3MY7OIHY/\n",
      "\n"
     ]
    }
   ],
   "source": [
    "import requests\n",
    "from bs4 import BeautifulSoup\n",
    "\n",
    "URL = \"https://www.chosun.com/medical/\"\n",
    "html_doc = requests.get(URL).text\n",
    "\n",
    "soup = BeautifulSoup(html_doc, 'html.parser')\n",
    "news_list = soup.find_all('a', class_='story-card__headline')\n",
    "title_and_link = []\n",
    "link_set = set()\n",
    "for news in news_list:\n",
    "    title = news.get_text(strip=True)\n",
    "    link = news['href']\n",
    "    # 많은 중복이 있기 때문에 link를 기준으로 중복을 제거\n",
    "    if link not in link_set:\n",
    "        title_and_link.append((title, link))\n",
    "        link_set.add(link)\n",
    "\n",
    "for title, link in title_and_link:\n",
    "    print(f\"Title: {title}\\nLink: {link}\\n\")\n",
    "\n"
   ]
  }
 ],
 "metadata": {
  "kernelspec": {
   "display_name": "py313",
   "language": "python",
   "name": "python3"
  },
  "language_info": {
   "codemirror_mode": {
    "name": "ipython",
    "version": 3
   },
   "file_extension": ".py",
   "mimetype": "text/x-python",
   "name": "python",
   "nbconvert_exporter": "python",
   "pygments_lexer": "ipython3",
   "version": "3.13.2"
  }
 },
 "nbformat": 4,
 "nbformat_minor": 5
}
